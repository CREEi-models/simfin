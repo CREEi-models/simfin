{
 "cells": [
  {
   "cell_type": "markdown",
   "metadata": {},
   "source": [
    "# Exemple avec SimFin"
   ]
  },
  {
   "cell_type": "code",
   "execution_count": 1,
   "metadata": {},
   "outputs": [],
   "source": [
    "import numpy as np\n",
    "from matplotlib import pyplot as plt\n",
    "from importlib import reload \n",
    "import sys \n",
    "#sys.path.append('/users/loulou/cedia/simfin/Model')\n",
    "import warnings\n",
    "import simfin\n",
    "\n",
    "warnings.filterwarnings('ignore')"
   ]
  },
  {
   "cell_type": "code",
   "execution_count": 2,
   "metadata": {},
   "outputs": [],
   "source": [
    "simfin = reload(simfin)"
   ]
  },
  {
   "cell_type": "code",
   "execution_count": 3,
   "metadata": {},
   "outputs": [
    {
     "name": "stdout",
     "output_type": "stream",
     "text": [
      "alignment factor for health :  1.2485447430148122\n",
      "alignment factor for education :  1.4417133670200024\n"
     ]
    }
   ],
   "source": [
    "x = simfin.simulator(2019,2021)"
   ]
  },
  {
   "cell_type": "code",
   "execution_count": 4,
   "metadata": {},
   "outputs": [],
   "source": [
    "x.simulate()"
   ]
  },
  {
   "cell_type": "code",
   "execution_count": null,
   "metadata": {},
   "outputs": [],
   "source": []
  },
  {
   "cell_type": "code",
   "execution_count": 5,
   "metadata": {},
   "outputs": [
    {
     "data": {
      "text/html": [
       "<div>\n",
       "<style scoped>\n",
       "    .dataframe tbody tr th:only-of-type {\n",
       "        vertical-align: middle;\n",
       "    }\n",
       "\n",
       "    .dataframe tbody tr th {\n",
       "        vertical-align: top;\n",
       "    }\n",
       "\n",
       "    .dataframe thead th {\n",
       "        text-align: right;\n",
       "    }\n",
       "</style>\n",
       "<table border=\"1\" class=\"dataframe\">\n",
       "  <thead>\n",
       "    <tr style=\"text-align: right;\">\n",
       "      <th></th>\n",
       "      <th>2019</th>\n",
       "      <th>2020</th>\n",
       "    </tr>\n",
       "  </thead>\n",
       "  <tbody>\n",
       "    <tr>\n",
       "      <th>personal</th>\n",
       "      <td>31773</td>\n",
       "      <td>32189.4</td>\n",
       "    </tr>\n",
       "    <tr>\n",
       "      <th>corporate</th>\n",
       "      <td>9183</td>\n",
       "      <td>9303.34</td>\n",
       "    </tr>\n",
       "    <tr>\n",
       "      <th>consumption</th>\n",
       "      <td>21001</td>\n",
       "      <td>21276.2</td>\n",
       "    </tr>\n",
       "    <tr>\n",
       "      <th>other taxes</th>\n",
       "      <td>29669</td>\n",
       "      <td>30057.8</td>\n",
       "    </tr>\n",
       "    <tr>\n",
       "      <th>autonomous</th>\n",
       "      <td>73505</td>\n",
       "      <td>92826.7</td>\n",
       "    </tr>\n",
       "    <tr>\n",
       "      <th>federal transfers</th>\n",
       "      <td>23120</td>\n",
       "      <td>23423</td>\n",
       "    </tr>\n",
       "    <tr>\n",
       "      <th>total revenue</th>\n",
       "      <td>96625</td>\n",
       "      <td>116250</td>\n",
       "    </tr>\n",
       "    <tr>\n",
       "      <th>mission health</th>\n",
       "      <td>41522</td>\n",
       "      <td>43368.5</td>\n",
       "    </tr>\n",
       "    <tr>\n",
       "      <th>mission education</th>\n",
       "      <td>23887</td>\n",
       "      <td>23165.1</td>\n",
       "    </tr>\n",
       "    <tr>\n",
       "      <th>other missions</th>\n",
       "      <td>32335</td>\n",
       "      <td>33438.3</td>\n",
       "    </tr>\n",
       "    <tr>\n",
       "      <th>mission spending</th>\n",
       "      <td>97744</td>\n",
       "      <td>99971.9</td>\n",
       "    </tr>\n",
       "    <tr>\n",
       "      <th>debt service</th>\n",
       "      <td>8722</td>\n",
       "      <td>7884.49</td>\n",
       "    </tr>\n",
       "    <tr>\n",
       "      <th>total spending</th>\n",
       "      <td>106466</td>\n",
       "      <td>107856</td>\n",
       "    </tr>\n",
       "    <tr>\n",
       "      <th>surplus</th>\n",
       "      <td>-9841</td>\n",
       "      <td>8393.25</td>\n",
       "    </tr>\n",
       "    <tr>\n",
       "      <th>generation fund</th>\n",
       "      <td>8293</td>\n",
       "      <td>10790</td>\n",
       "    </tr>\n",
       "    <tr>\n",
       "      <th>fund contribution</th>\n",
       "      <td>3477</td>\n",
       "      <td>2497.02</td>\n",
       "    </tr>\n",
       "    <tr>\n",
       "      <th>net surplus</th>\n",
       "      <td>-13318</td>\n",
       "      <td>5896.23</td>\n",
       "    </tr>\n",
       "    <tr>\n",
       "      <th>reserve</th>\n",
       "      <td>0</td>\n",
       "      <td>5896.23</td>\n",
       "    </tr>\n",
       "    <tr>\n",
       "      <th>debt</th>\n",
       "      <td>189044</td>\n",
       "      <td>190325</td>\n",
       "    </tr>\n",
       "    <tr>\n",
       "      <th>gross debt</th>\n",
       "      <td>192954</td>\n",
       "      <td>192155</td>\n",
       "    </tr>\n",
       "    <tr>\n",
       "      <th>gdp</th>\n",
       "      <td>419224</td>\n",
       "      <td>433529</td>\n",
       "    </tr>\n",
       "    <tr>\n",
       "      <th>debt-to-gdp</th>\n",
       "      <td>0.460265</td>\n",
       "      <td>0.443234</td>\n",
       "    </tr>\n",
       "    <tr>\n",
       "      <th>gdp growth</th>\n",
       "      <td>0</td>\n",
       "      <td>0.0210181</td>\n",
       "    </tr>\n",
       "    <tr>\n",
       "      <th>pop growth</th>\n",
       "      <td>0</td>\n",
       "      <td>0.018232</td>\n",
       "    </tr>\n",
       "    <tr>\n",
       "      <th>emp growth</th>\n",
       "      <td>0</td>\n",
       "      <td>0.0126291</td>\n",
       "    </tr>\n",
       "  </tbody>\n",
       "</table>\n",
       "</div>"
      ],
      "text/plain": [
       "                       2019       2020\n",
       "personal              31773    32189.4\n",
       "corporate              9183    9303.34\n",
       "consumption           21001    21276.2\n",
       "other taxes           29669    30057.8\n",
       "autonomous            73505    92826.7\n",
       "federal transfers     23120      23423\n",
       "total revenue         96625     116250\n",
       "mission health        41522    43368.5\n",
       "mission education     23887    23165.1\n",
       "other missions        32335    33438.3\n",
       "mission spending      97744    99971.9\n",
       "debt service           8722    7884.49\n",
       "total spending       106466     107856\n",
       "surplus               -9841    8393.25\n",
       "generation fund        8293      10790\n",
       "fund contribution      3477    2497.02\n",
       "net surplus          -13318    5896.23\n",
       "reserve                   0    5896.23\n",
       "debt                 189044     190325\n",
       "gross debt           192954     192155\n",
       "gdp                  419224     433529\n",
       "debt-to-gdp        0.460265   0.443234\n",
       "gdp growth                0  0.0210181\n",
       "pop growth                0   0.018232\n",
       "emp growth                0  0.0126291"
      ]
     },
     "execution_count": 5,
     "metadata": {},
     "output_type": "execute_result"
    }
   ],
   "source": [
    "x.summary"
   ]
  },
  {
   "cell_type": "code",
   "execution_count": 6,
   "metadata": {},
   "outputs": [
    {
     "data": {
      "text/html": [
       "<div>\n",
       "<style scoped>\n",
       "    .dataframe tbody tr th:only-of-type {\n",
       "        vertical-align: middle;\n",
       "    }\n",
       "\n",
       "    .dataframe tbody tr th {\n",
       "        vertical-align: top;\n",
       "    }\n",
       "\n",
       "    .dataframe thead th {\n",
       "        text-align: right;\n",
       "    }\n",
       "</style>\n",
       "<table border=\"1\" class=\"dataframe\">\n",
       "  <thead>\n",
       "    <tr style=\"text-align: right;\">\n",
       "      <th></th>\n",
       "      <th>2019</th>\n",
       "      <th>2020</th>\n",
       "    </tr>\n",
       "  </thead>\n",
       "  <tbody>\n",
       "    <tr>\n",
       "      <th>personal</th>\n",
       "      <td>31773</td>\n",
       "      <td>32189.4</td>\n",
       "    </tr>\n",
       "    <tr>\n",
       "      <th>corporate</th>\n",
       "      <td>9183</td>\n",
       "      <td>9303.34</td>\n",
       "    </tr>\n",
       "    <tr>\n",
       "      <th>consumption</th>\n",
       "      <td>21001</td>\n",
       "      <td>21276.2</td>\n",
       "    </tr>\n",
       "    <tr>\n",
       "      <th>other taxes</th>\n",
       "      <td>29669</td>\n",
       "      <td>30057.8</td>\n",
       "    </tr>\n",
       "    <tr>\n",
       "      <th>autonomous</th>\n",
       "      <td>73505</td>\n",
       "      <td>92826.7</td>\n",
       "    </tr>\n",
       "    <tr>\n",
       "      <th>federal transfers</th>\n",
       "      <td>23120</td>\n",
       "      <td>23423</td>\n",
       "    </tr>\n",
       "    <tr>\n",
       "      <th>total revenue</th>\n",
       "      <td>96625</td>\n",
       "      <td>116250</td>\n",
       "    </tr>\n",
       "    <tr>\n",
       "      <th>mission health</th>\n",
       "      <td>41522</td>\n",
       "      <td>43368.5</td>\n",
       "    </tr>\n",
       "    <tr>\n",
       "      <th>mission education</th>\n",
       "      <td>23887</td>\n",
       "      <td>23165.1</td>\n",
       "    </tr>\n",
       "    <tr>\n",
       "      <th>other missions</th>\n",
       "      <td>32335</td>\n",
       "      <td>33438.3</td>\n",
       "    </tr>\n",
       "    <tr>\n",
       "      <th>mission spending</th>\n",
       "      <td>97744</td>\n",
       "      <td>99971.9</td>\n",
       "    </tr>\n",
       "    <tr>\n",
       "      <th>debt service</th>\n",
       "      <td>8722</td>\n",
       "      <td>7884.49</td>\n",
       "    </tr>\n",
       "    <tr>\n",
       "      <th>total spending</th>\n",
       "      <td>106466</td>\n",
       "      <td>107856</td>\n",
       "    </tr>\n",
       "    <tr>\n",
       "      <th>surplus</th>\n",
       "      <td>-9841</td>\n",
       "      <td>8393.25</td>\n",
       "    </tr>\n",
       "    <tr>\n",
       "      <th>generation fund</th>\n",
       "      <td>8293</td>\n",
       "      <td>10790</td>\n",
       "    </tr>\n",
       "    <tr>\n",
       "      <th>fund contribution</th>\n",
       "      <td>3477</td>\n",
       "      <td>2497.02</td>\n",
       "    </tr>\n",
       "    <tr>\n",
       "      <th>net surplus</th>\n",
       "      <td>-13318</td>\n",
       "      <td>5896.23</td>\n",
       "    </tr>\n",
       "    <tr>\n",
       "      <th>reserve</th>\n",
       "      <td>0</td>\n",
       "      <td>5896.23</td>\n",
       "    </tr>\n",
       "    <tr>\n",
       "      <th>debt</th>\n",
       "      <td>189044</td>\n",
       "      <td>190325</td>\n",
       "    </tr>\n",
       "    <tr>\n",
       "      <th>gross debt</th>\n",
       "      <td>192954</td>\n",
       "      <td>192155</td>\n",
       "    </tr>\n",
       "    <tr>\n",
       "      <th>gdp</th>\n",
       "      <td>419224</td>\n",
       "      <td>433529</td>\n",
       "    </tr>\n",
       "    <tr>\n",
       "      <th>debt-to-gdp</th>\n",
       "      <td>0.460265</td>\n",
       "      <td>0.443234</td>\n",
       "    </tr>\n",
       "    <tr>\n",
       "      <th>gdp growth</th>\n",
       "      <td>0</td>\n",
       "      <td>0.0210181</td>\n",
       "    </tr>\n",
       "    <tr>\n",
       "      <th>pop growth</th>\n",
       "      <td>0</td>\n",
       "      <td>0.018232</td>\n",
       "    </tr>\n",
       "    <tr>\n",
       "      <th>emp growth</th>\n",
       "      <td>0</td>\n",
       "      <td>0.0126291</td>\n",
       "    </tr>\n",
       "  </tbody>\n",
       "</table>\n",
       "</div>"
      ],
      "text/plain": [
       "                       2019       2020\n",
       "personal              31773    32189.4\n",
       "corporate              9183    9303.34\n",
       "consumption           21001    21276.2\n",
       "other taxes           29669    30057.8\n",
       "autonomous            73505    92826.7\n",
       "federal transfers     23120      23423\n",
       "total revenue         96625     116250\n",
       "mission health        41522    43368.5\n",
       "mission education     23887    23165.1\n",
       "other missions        32335    33438.3\n",
       "mission spending      97744    99971.9\n",
       "debt service           8722    7884.49\n",
       "total spending       106466     107856\n",
       "surplus               -9841    8393.25\n",
       "generation fund        8293      10790\n",
       "fund contribution      3477    2497.02\n",
       "net surplus          -13318    5896.23\n",
       "reserve                   0    5896.23\n",
       "debt                 189044     190325\n",
       "gross debt           192954     192155\n",
       "gdp                  419224     433529\n",
       "debt-to-gdp        0.460265   0.443234\n",
       "gdp growth                0  0.0210181\n",
       "pop growth                0   0.018232\n",
       "emp growth                0  0.0126291"
      ]
     },
     "execution_count": 6,
     "metadata": {},
     "output_type": "execute_result"
    }
   ],
   "source": [
    "#compare = x.summary\n",
    "x.reset()\n",
    "x.simulate()\n",
    "x.summary"
   ]
  },
  {
   "cell_type": "code",
   "execution_count": 7,
   "metadata": {},
   "outputs": [
    {
     "name": "stdout",
     "output_type": "stream",
     "text": [
      "alignment factor for health :  1.2485447430148122\n",
      "alignment factor for education :  1.4417133670200024\n"
     ]
    }
   ],
   "source": [
    "x = simfin.simulator(2019,2021)"
   ]
  },
  {
   "cell_type": "code",
   "execution_count": 10,
   "metadata": {},
   "outputs": [],
   "source": [
    "@x.replication(10)\n",
    "def my_simulation():\n",
    "    x.simulate()"
   ]
  },
  {
   "cell_type": "code",
   "execution_count": 11,
   "metadata": {},
   "outputs": [],
   "source": [
    "my_simulation()"
   ]
  },
  {
   "cell_type": "code",
   "execution_count": 14,
   "metadata": {},
   "outputs": [
    {
     "data": {
      "text/plain": [
       "True"
      ]
     },
     "execution_count": 14,
     "metadata": {},
     "output_type": "execute_result"
    }
   ],
   "source": [
    "x.all_summary[0].equals(x.all_summary[9])"
   ]
  },
  {
   "cell_type": "code",
   "execution_count": 17,
   "metadata": {},
   "outputs": [
    {
     "data": {
      "text/plain": [
       "<matplotlib.axes._subplots.AxesSubplot at 0x120af65f8>"
      ]
     },
     "execution_count": 17,
     "metadata": {},
     "output_type": "execute_result"
    },
    {
     "data": {
      "image/png": "[encoded data removed]",
      "text/plain": [
       "<Figure size 432x288 with 1 Axes>"
      ]
     },
     "metadata": {
      "needs_background": "light"
     },
     "output_type": "display_data"
    }
   ],
   "source": [
    "\n",
    "x.summary.loc[['total revenue','total spending'],:].T.plot()"
   ]
  },
  {
   "cell_type": "code",
   "execution_count": 18,
   "metadata": {},
   "outputs": [
    {
     "data": {
      "text/plain": [
       "<matplotlib.axes._subplots.AxesSubplot at 0x120daeeb8>"
      ]
     },
     "execution_count": 18,
     "metadata": {},
     "output_type": "execute_result"
    },
    {
     "data": {
      "image/png": "[encoded data removed]",
      "text/plain": [
       "<Figure size 432x288 with 1 Axes>"
      ]
     },
     "metadata": {
      "needs_background": "light"
     },
     "output_type": "display_data"
    }
   ],
   "source": [
    "x.summary.loc[['surplus','net surplus'],:].T.plot()"
   ]
  },
  {
   "cell_type": "code",
   "execution_count": 19,
   "metadata": {},
   "outputs": [
    {
     "data": {
      "text/plain": [
       "<matplotlib.axes._subplots.AxesSubplot at 0x1200cc0b8>"
      ]
     },
     "execution_count": 19,
     "metadata": {},
     "output_type": "execute_result"
    },
    {
     "data": {
      "image/png": "[encoded data removed]",
      "text/plain": [
       "<Figure size 432x288 with 1 Axes>"
      ]
     },
     "metadata": {
      "needs_background": "light"
     },
     "output_type": "display_data"
    }
   ],
   "source": [
    "x.summary.loc[['generation fund','reserve'],:].T.plot()"
   ]
  },
  {
   "cell_type": "code",
   "execution_count": 20,
   "metadata": {},
   "outputs": [
    {
     "data": {
      "text/plain": [
       "<matplotlib.axes._subplots.AxesSubplot at 0x1200b3c18>"
      ]
     },
     "execution_count": 20,
     "metadata": {},
     "output_type": "execute_result"
    },
    {
     "data": {
      "image/png": "[encoded data removed]",
      "text/plain": [
       "<Figure size 432x288 with 1 Axes>"
      ]
     },
     "metadata": {
      "needs_background": "light"
     },
     "output_type": "display_data"
    }
   ],
   "source": [
    "missions = x.summary.loc[['mission health','mission education','other missions'],:].T\n",
    "tot = missions.sum(axis=1)\n",
    "for c in missions.columns:\n",
    "    missions[c] = missions[c]/tot\n",
    "missions.plot.area()"
   ]
  },
  {
   "cell_type": "code",
   "execution_count": 21,
   "metadata": {},
   "outputs": [
    {
     "data": {
      "text/plain": [
       "<matplotlib.axes._subplots.AxesSubplot at 0x11fdce668>"
      ]
     },
     "execution_count": 21,
     "metadata": {},
     "output_type": "execute_result"
    },
    {
     "data": {
      "image/png": "[encoded data removed]",
      "text/plain": [
       "<Figure size 432x288 with 1 Axes>"
      ]
     },
     "metadata": {
      "needs_background": "light"
     },
     "output_type": "display_data"
    }
   ],
   "source": [
    "revenue = x.summary.loc[['personal','corporate','consumption','other taxes','federal transfers'],:].T\n",
    "tot = revenue.sum(axis=1)\n",
    "for c in revenue.columns:\n",
    "    revenue[c] = revenue[c]/tot\n",
    "revenue.plot.area()\n"
   ]
  },
  {
   "cell_type": "code",
   "execution_count": 22,
   "metadata": {},
   "outputs": [
    {
     "data": {
      "text/plain": [
       "<matplotlib.axes._subplots.AxesSubplot at 0x11feecf60>"
      ]
     },
     "execution_count": 22,
     "metadata": {},
     "output_type": "execute_result"
    },
    {
     "data": {
      "image/png": "[encoded data removed]",
      "text/plain": [
       "<Figure size 432x288 with 1 Axes>"
      ]
     },
     "metadata": {
      "needs_background": "light"
     },
     "output_type": "display_data"
    }
   ],
   "source": [
    "x.summary.loc['debt-to-gdp',:].plot()"
   ]
  },
  {
   "cell_type": "code",
   "execution_count": null,
   "metadata": {},
   "outputs": [],
   "source": []
  },
  {
   "cell_type": "code",
   "execution_count": null,
   "metadata": {},
   "outputs": [],
   "source": []
  }
 ],
 "metadata": {
  "kernelspec": {
   "display_name": "Python 3.7.7 64-bit ('simul': conda)",
   "language": "python",
   "name": "python37764bitsimulconda7be6efcb058e469bad117784366e36eb"
  },
  "language_info": {
   "codemirror_mode": {
    "name": "ipython",
    "version": 3
   },
   "file_extension": ".py",
   "mimetype": "text/x-python",
   "name": "python",
   "nbconvert_exporter": "python",
   "pygments_lexer": "ipython3",
   "version": "3.7.7"
  },
  "varInspector": {
   "cols": {
    "lenName": 16,
    "lenType": 16,
    "lenVar": 40
   },
   "kernels_config": {
    "python": {
     "delete_cmd_postfix": "",
     "delete_cmd_prefix": "del ",
     "library": "var_list.py",
     "varRefreshCmd": "print(var_dic_list())"
    },
    "r": {
     "delete_cmd_postfix": ") ",
     "delete_cmd_prefix": "rm(",
     "library": "var_list.r",
     "varRefreshCmd": "cat(var_dic_list()) "
    }
   },
   "types_to_exclude": [
    "module",
    "function",
    "builtin_function_or_method",
    "instance",
    "_Feature"
   ],
   "window_display": false
  }
 },
 "nbformat": 4,
 "nbformat_minor": 4
}
