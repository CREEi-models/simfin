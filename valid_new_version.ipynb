{
 "cells": [
  {
   "cell_type": "code",
   "execution_count": 1,
   "metadata": {},
   "outputs": [],
   "source": [
    "from simfin import simulator"
   ]
  },
  {
   "cell_type": "code",
   "execution_count": 2,
   "metadata": {
    "scrolled": true
   },
   "outputs": [],
   "source": [
    "x = simulator(2022,2050,stochastic=False)"
   ]
  },
  {
   "cell_type": "code",
   "execution_count": 3,
   "metadata": {
    "scrolled": true
   },
   "outputs": [
    {
     "name": "stdout",
     "output_type": "stream",
     "text": [
      "211.8509793365515\n",
      "213.90865065898942\n",
      "210.1061924459884\n",
      "214.11722480654282\n",
      "214.0414183817906\n",
      "201.99600217304715\n",
      "197.13861210468824\n",
      "191.2285595141297\n",
      "185.36472416992333\n",
      "179.05484617977586\n",
      "168.60346273233594\n",
      "158.16747328717375\n",
      "144.82992966037838\n",
      "142.43968188957078\n",
      "139.96956829019433\n",
      "139.48133975495855\n",
      "138.98346266836631\n",
      "138.2882354530358\n",
      "137.4817715683073\n",
      "136.80430614625988\n",
      "135.24650321344077\n",
      "134.26534304511418\n",
      "133.15192411967934\n",
      "132.9386746855907\n",
      "132.4489439556177\n",
      "132.16564144345273\n",
      "131.26247840786948\n",
      "130.89010662120538\n"
     ]
    }
   ],
   "source": [
    "x.simulate()"
   ]
  },
  {
   "cell_type": "code",
   "execution_count": 4,
   "metadata": {},
   "outputs": [],
   "source": [
    "x.macro.aggr.T.to_excel(\"/Users/juliennavaux/Documents/valid/aggr_new_version.xlsx\")"
   ]
  },
  {
   "cell_type": "code",
   "execution_count": 5,
   "metadata": {},
   "outputs": [],
   "source": [
    "x.revenue.report.to_excel(\"/Users/juliennavaux/Documents/valid/revenue_new_version.xlsx\")"
   ]
  },
  {
   "cell_type": "code",
   "execution_count": 6,
   "metadata": {},
   "outputs": [],
   "source": [
    "x.missions.report.to_excel(\"/Users/juliennavaux/Documents/valid/missions_new_version.xlsx\")"
   ]
  },
  {
   "cell_type": "code",
   "execution_count": 7,
   "metadata": {},
   "outputs": [],
   "source": [
    "x.federal.report.to_excel(\"/Users/juliennavaux/Documents/valid/federal_new_version.xlsx\")"
   ]
  },
  {
   "cell_type": "code",
   "execution_count": 8,
   "metadata": {},
   "outputs": [
    {
     "data": {
      "text/plain": [
       "<AxesSubplot:>"
      ]
     },
     "execution_count": 8,
     "metadata": {},
     "output_type": "execute_result"
    },
    {
     "data": {
      "image/png": "[encoded data removed]",
      "text/plain": [
       "<Figure size 432x288 with 1 Axes>"
      ]
     },
     "metadata": {
      "needs_background": "light"
     },
     "output_type": "display_data"
    }
   ],
   "source": [
    "x.pop.loc[25:64,:,:,:].sum().plot()"
   ]
  },
  {
   "cell_type": "code",
   "execution_count": 9,
   "metadata": {},
   "outputs": [
    {
     "data": {
      "text/plain": [
       "2022    4250193.751618\n",
       "2023    4253850.894273\n",
       "2024    4258476.794149\n",
       "2025    4266735.105598\n",
       "2026    4279741.803987\n",
       "2027    4292480.963784\n",
       "2028    4307313.147311\n",
       "2029    4323296.975455\n",
       "2030    4339868.125876\n",
       "2031    4358383.711525\n",
       "2032    4378552.921658\n",
       "2033    4398187.476131\n",
       "2034    4416177.789567\n",
       "2035    4430568.141041\n",
       "2036    4444356.297508\n",
       "2037     4458164.40875\n",
       "2038    4470243.414232\n",
       "2039    4481123.146747\n",
       "2040    4492547.132446\n",
       "2041    4502911.562641\n",
       "2042    4510178.110761\n",
       "2043    4518134.430205\n",
       "2044     4523496.29502\n",
       "2045    4525841.812366\n",
       "2046    4526492.201459\n",
       "2047    4526146.179447\n",
       "2048     4523875.98294\n",
       "2049    4521996.381469\n",
       "Name: E, dtype: object"
      ]
     },
     "execution_count": 9,
     "metadata": {},
     "output_type": "execute_result"
    }
   ],
   "source": [
    "x.macro.aggr['E']"
   ]
  },
  {
   "cell_type": "code",
   "execution_count": null,
   "metadata": {},
   "outputs": [],
   "source": []
  }
 ],
 "metadata": {
  "interpreter": {
   "hash": "ba2340ab882356406e091df0706039b4b3cc5191eef6c073d3fb97005dbe0324"
  },
  "kernelspec": {
   "display_name": "Python 3",
   "language": "python",
   "name": "python3"
  },
  "language_info": {
   "codemirror_mode": {
    "name": "ipython",
    "version": 3
   },
   "file_extension": ".py",
   "mimetype": "text/x-python",
   "name": "python",
   "nbconvert_exporter": "python",
   "pygments_lexer": "ipython3",
   "version": "3.8.8"
  }
 },
 "nbformat": 4,
 "nbformat_minor": 2
}
